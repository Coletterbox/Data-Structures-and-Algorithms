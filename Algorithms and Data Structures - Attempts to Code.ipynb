{
 "cells": [
  {
   "cell_type": "markdown",
   "metadata": {},
   "source": [
    "# Guessing a random number between X and Y. \n",
    "\n",
    "Contrasting two approaches: one where you start with the lowest and increment guesses by one until the correct number is reached, and one which gradually zeroes in on the correct number.\n",
    "\n",
    "time complexity and machine something\n",
    "\n",
    "growth rate\n"
   ]
  },
  {
   "cell_type": "code",
   "execution_count": 1,
   "metadata": {},
   "outputs": [],
   "source": [
    "import random"
   ]
  },
  {
   "cell_type": "code",
   "execution_count": 2,
   "metadata": {},
   "outputs": [],
   "source": [
    "def choose_random_number(lower_bound, upper_bound):\n",
    "    return random.randrange(lower_bound, upper_bound)"
   ]
  },
  {
   "cell_type": "markdown",
   "metadata": {},
   "source": [
    "## Linear Search\n",
    "\n",
    "(linear/sequential/simple search)"
   ]
  },
  {
   "cell_type": "code",
   "execution_count": 5,
   "metadata": {},
   "outputs": [],
   "source": [
    "def linear_search(lower_bound, upper_bound):\n",
    "    target_number = choose_random_number(lower_bound, upper_bound)\n",
    "    step_count = 1\n",
    "    \n",
    "    i = lower_bound\n",
    "    while i <= upper_bound:\n",
    "        if i == target_number:\n",
    "            print(\"Number of steps: \", step_count)\n",
    "            print(\"Target number: \", target_number)\n",
    "            return i\n",
    "        step_count+=1\n",
    "        i+=1"
   ]
  },
  {
   "cell_type": "code",
   "execution_count": 6,
   "metadata": {},
   "outputs": [
    {
     "name": "stdout",
     "output_type": "stream",
     "text": [
      "Number of steps:  10\n",
      "Target number:  10\n"
     ]
    },
    {
     "data": {
      "text/plain": [
       "10"
      ]
     },
     "execution_count": 6,
     "metadata": {},
     "output_type": "execute_result"
    }
   ],
   "source": [
    "linear_search(1, 100)"
   ]
  },
  {
   "cell_type": "code",
   "execution_count": 7,
   "metadata": {},
   "outputs": [
    {
     "name": "stdout",
     "output_type": "stream",
     "text": [
      "Number of steps:  81\n",
      "Target number:  81\n"
     ]
    },
    {
     "data": {
      "text/plain": [
       "81"
      ]
     },
     "execution_count": 7,
     "metadata": {},
     "output_type": "execute_result"
    }
   ],
   "source": [
    "linear_search(1, 100)"
   ]
  },
  {
   "cell_type": "code",
   "execution_count": 8,
   "metadata": {},
   "outputs": [
    {
     "name": "stdout",
     "output_type": "stream",
     "text": [
      "Number of steps:  25\n",
      "Target number:  25\n"
     ]
    },
    {
     "data": {
      "text/plain": [
       "25"
      ]
     },
     "execution_count": 8,
     "metadata": {},
     "output_type": "execute_result"
    }
   ],
   "source": [
    "linear_search(1, 100)"
   ]
  },
  {
   "cell_type": "markdown",
   "metadata": {},
   "source": [
    "## Binary Search\n",
    "\n",
    "numbers must be ordered"
   ]
  },
  {
   "cell_type": "code",
   "execution_count": 38,
   "metadata": {},
   "outputs": [],
   "source": [
    "def get_middle_guess(lower_number, higher_number):\n",
    "    total = int(lower_number + higher_number)\n",
    "    if total%2 == 0:\n",
    "        return int(total/2)\n",
    "    else:\n",
    "        return int((total + 1)/2)\n",
    "    \n",
    "def binary_search(target_number, lower_bound, upper_bound):\n",
    "    middle = get_middle_guess(lower_bound, upper_bound)\n",
    "    \n",
    "    if target_number == middle:\n",
    "        print(\"Guessed: \", middle)\n",
    "        return middle\n",
    "    elif middle < target_number:\n",
    "        print(\"Guessed: \", middle)\n",
    "        lower_bound = middle\n",
    "    else:\n",
    "        print(\"Guessed: \", middle)\n",
    "        upper_bound = middle\n",
    "    \n",
    "    return binary_search(target_number, lower_bound, upper_bound)\n",
    "\n",
    "def run_binary_search(lower_bound, upper_bound):\n",
    "    target_number = choose_random_number(lower_bound, upper_bound)\n",
    "    print(\"Target number: \", target_number)\n",
    "    \n",
    "    return binary_search(target_number, lower_bound, upper_bound)"
   ]
  },
  {
   "cell_type": "code",
   "execution_count": 39,
   "metadata": {},
   "outputs": [
    {
     "name": "stdout",
     "output_type": "stream",
     "text": [
      "Target number:  3\n",
      "Guessed:  6\n",
      "Guessed:  4\n",
      "Guessed:  3\n"
     ]
    },
    {
     "data": {
      "text/plain": [
       "3"
      ]
     },
     "execution_count": 39,
     "metadata": {},
     "output_type": "execute_result"
    }
   ],
   "source": [
    "run_binary_search(1, 10)"
   ]
  },
  {
   "cell_type": "code",
   "execution_count": 40,
   "metadata": {},
   "outputs": [
    {
     "name": "stdout",
     "output_type": "stream",
     "text": [
      "Target number:  21\n",
      "Guessed:  51\n",
      "Guessed:  26\n",
      "Guessed:  14\n",
      "Guessed:  20\n",
      "Guessed:  23\n",
      "Guessed:  22\n",
      "Guessed:  21\n"
     ]
    },
    {
     "data": {
      "text/plain": [
       "21"
      ]
     },
     "execution_count": 40,
     "metadata": {},
     "output_type": "execute_result"
    }
   ],
   "source": [
    "run_binary_search(1, 100)"
   ]
  },
  {
   "cell_type": "code",
   "execution_count": 42,
   "metadata": {},
   "outputs": [
    {
     "name": "stdout",
     "output_type": "stream",
     "text": [
      "Target number:  405\n",
      "Guessed:  501\n",
      "Guessed:  251\n",
      "Guessed:  376\n",
      "Guessed:  439\n",
      "Guessed:  408\n",
      "Guessed:  392\n",
      "Guessed:  400\n",
      "Guessed:  404\n",
      "Guessed:  406\n",
      "Guessed:  405\n"
     ]
    },
    {
     "data": {
      "text/plain": [
       "405"
      ]
     },
     "execution_count": 42,
     "metadata": {},
     "output_type": "execute_result"
    }
   ],
   "source": [
    "run_binary_search(1, 1000)"
   ]
  },
  {
   "cell_type": "code",
   "execution_count": null,
   "metadata": {},
   "outputs": [],
   "source": []
  }
 ],
 "metadata": {
  "kernelspec": {
   "display_name": "Python 3",
   "language": "python",
   "name": "python3"
  },
  "language_info": {
   "codemirror_mode": {
    "name": "ipython",
    "version": 3
   },
   "file_extension": ".py",
   "mimetype": "text/x-python",
   "name": "python",
   "nbconvert_exporter": "python",
   "pygments_lexer": "ipython3",
   "version": "3.8.5"
  }
 },
 "nbformat": 4,
 "nbformat_minor": 4
}
